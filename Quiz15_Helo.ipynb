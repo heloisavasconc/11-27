{
 "cells": [
  {
   "cell_type": "code",
   "execution_count": null,
   "metadata": {},
   "outputs": [],
   "source": [
    "import numpy as np\n",
    "import scipy.io as sio\n",
    "from scipy import signal\n",
    "from scipy import stats\n",
    "from nitime.algorithms import multi_taper_psd\n",
    "from nitime.utils import dpss_windows\n",
    "import statsmodels.api as sm\n",
    "from statsmodels.genmod.families import Poisson\n",
    "import statsmodels.formula.api as smf\n",
    "from pandas import DataFrame as df\n",
    "from pandas import concat\n",
    "from statsmodels.distributions.empirical_distribution import ECDF\n",
    "from scipy.stats import chi2, norm\n",
    "import matplotlib.pyplot as plt\n",
    "from matplotlib.pyplot import plot, xlim, ylim, show, imshow, xlabel, ylabel, bar, figure, title\n",
    "from matplotlib import rcParams\n",
    "from numpy import hanning, where, histogram, arange\n",
    "rcParams['figure.figsize'] = (15,5)"
   ]
  },
  {
   "cell_type": "markdown",
   "metadata": {},
   "source": [
    "Refaça a análise dos spikes da aula de hoje usando as ferramentas que aprendemos na aula I de spikes (ISI, Fator Fano, Autocorrelação) e analise o LFP. O resultado dessas análises ajuda a explicar o resultado da coerência entre campo e spike?"
   ]
  },
  {
   "cell_type": "code",
   "execution_count": null,
   "metadata": {},
   "outputs": [],
   "source": [
    "#ISI\n",
    "\n",
    "data = sio.loadmat('Aula15-spikes-LFP-1.mat')\n",
    "Spikes = data['n'][0]\n",
    "\n",
    "ISI = np.diff(Spikes)\n",
    "\n",
    "plot(Spikes, np.ones_like(Spikes), '*', color = \"navy\")    \n",
    "plt.xlim([-5, 5])              \n",
    "plt.ylim([0, 3])              \n",
    "xlabel('Time [s]')            \n",
    "plt.legend({'Spikes'})   \n",
    "show()\n"
   ]
  },
  {
   "cell_type": "code",
   "execution_count": null,
   "metadata": {},
   "outputs": [],
   "source": [
    "#Fator Fano\n",
    "\n",
    "FF = IncrementsLow50.var() / IncrementsLow50.mean()\n",
    "print('FF =', FF50Low)"
   ]
  },
  {
   "cell_type": "code",
   "execution_count": null,
   "metadata": {},
   "outputs": [],
   "source": [
    "#Autocorrelação\n",
    "\n",
    "def autocorr(x, lags):\n",
    "    xcorr = np.correlate(x - x.mean(), x - x.mean(), 'full')  \n",
    "    xcorr = xcorr[xcorr.size//2:] / xcorr.max()               \n",
    "    return xcorr[:lags+1]\n",
    "\n",
    "Increments50, _ = np.histogram(Spikes, time_bins) \n",
    "autocorr(Increments50, 3)\n",
    "\n",
    "time_bins = np.arange(0, 50, 0.001)                    \n",
    "Increments50, _ = np.histogram(Spikes, time_bins) \n",
    "ACFLow = autocorr(Increments50, 100)                 \n",
    "\n",
    "plot(ACFLow, '*', color = \"red\")        \n",
    "N1 = len(Increments50)                    \n",
    "sig = 2 / np.sqrt(N1)                       \n",
    "plot([0, 100], [sig, sig], 'r:', '|', color = \"navy\")           \n",
    "plot([0, 100], [-sig, -sig], 'r:', '|', color = \"navy\")\n",
    "plt.xlim([0, 100])                         \n",
    "plt.ylim([-.1, .1])                        \n",
    "show()"
   ]
  },
  {
   "cell_type": "markdown",
   "metadata": {},
   "source": [
    "Faça a análise abaixo para os dados Aula15-spikes-LFP2.mat e Aula15-spikes-LFP3.mat"
   ]
  },
  {
   "cell_type": "code",
   "execution_count": null,
   "metadata": {},
   "outputs": [],
   "source": [
    "#Visualize os dados. Tem algum ritmo visível? É possível enxergar alguma associação entre spikes e o LFP?\n",
    "\n",
    "\n",
    "data2 = sio.loadmat('Aula15-spikes-LFP-2.mat')\n",
    "y = data['y']                               \n",
    "n = data['n']                                \n",
    "t = data['t'].reshape(-1)                    \n",
    "plot(t,y[1,:])                               \n",
    "\n",
    "plot(t,n[1,:])\n",
    "xlabel('Time [s]')\n",
    "plt.autoscale(tight=True)\n",
    "\n",
    "\n",
    "\n",
    "data3 = sio.loadmat('Aula15-spikes-LFP-3.mat')\n",
    "\n",
    "y = data3['y']                               \n",
    "n = data3['n']                                \n",
    "t = data3['t'].reshape(-1)                    \n",
    "plot(t,y[1,:])                               \n",
    "\n",
    "plot(t,n[1,:])\n",
    "xlabel('Time [s]')\n",
    "plt.autoscale(tight=True)\n",
    "\n"
   ]
  },
  {
   "cell_type": "code",
   "execution_count": null,
   "metadata": {},
   "outputs": [],
   "source": []
  },
  {
   "cell_type": "code",
   "execution_count": null,
   "metadata": {},
   "outputs": [],
   "source": []
  }
 ],
 "metadata": {
  "kernelspec": {
   "display_name": "Python 3",
   "language": "python",
   "name": "python3"
  }
 },
 "nbformat": 4,
 "nbformat_minor": 2
}
