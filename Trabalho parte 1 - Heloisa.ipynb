{
 "cells": [
  {
   "cell_type": "markdown",
   "metadata": {},
   "source": [
    "Nesse experimento um ECoG registra o sinal de EEG de um macaco em três situações: \n",
    "\n",
    "- Olhos abertos\n",
    "- Olhos fechados\n",
    "- Anestesiado\n",
    "\n",
    "O ECoG usa 128 canais, cada canal é um arquivo matlab, a taxa de amostragem é de 1000Hz e o experimento foi dividido em 2 partes. Na primeira o macaco está de olhos abertos e fechados e na segunda parte é aplicada anestesia. O arquivo ECoGTime.mat possui a variável tempo apenas. O Condition.mat possui 3 variáveis: ConditionLabel, ConditionIndex e ConditionTime. O ConditionLabel tem os nomes da condição que o macaco se encontra e ConditionIndex e ConditionTime indicam o início e o final de cada condição.\n"
   ]
  },
  {
   "cell_type": "code",
   "execution_count": 2,
   "metadata": {},
   "outputs": [],
   "source": [
    "import scipy.io as sio\n",
    "import matplotlib.pyplot as plt\n",
    "import warnings\n",
    "\n",
    "import numpy as np\n",
    "from scipy.io import loadmat \n",
    "from nitime.algorithms import multi_taper_psd\n",
    "from nitime.utils import dpss_windows\n",
    "import statsmodels.api as sm\n",
    "from statsmodels.genmod.families import Poisson\n",
    "import statsmodels.formula.api as smf\n",
    "from pandas import DataFrame as df\n",
    "from pandas import concat\n",
    "from statsmodels.distributions.empirical_distribution import ECDF\n",
    "from scipy.stats import chi2, norm\n",
    "import matplotlib.pyplot as plt\n",
    "from matplotlib.pyplot import plot, xlim, ylim, show, imshow, xlabel, ylabel, bar, figure\n",
    "\n",
    "from matplotlib.pyplot import xlabel, ylabel, plot, show, title\n",
    "from matplotlib import rcParams\n",
    "from numpy import hanning, where, histogram, arange\n",
    "rcParams['figure.figsize'] = (12,3)\n"
   ]
  },
  {
   "cell_type": "code",
   "execution_count": null,
   "metadata": {},
   "outputs": [],
   "source": [
    "#Questão 1\n",
    "\n",
    "\n",
    "\n",
    "\n",
    "# Qual a duração total de cada condição ? \n",
    "\n",
    "\n",
    "\n",
    "\n",
    "\n",
    "\n",
    "\n",
    "#Qual a resolução da frequência  e a frequência de Nyquist?"
   ]
  },
  {
   "cell_type": "code",
   "execution_count": null,
   "metadata": {},
   "outputs": [],
   "source": [
    "#Questão 2\n",
    "\n",
    "#Crie um plot para cada condição e descreva se você consegue enxergar algum ritmo. Plote apenas um intervalo curto se for necessário."
   ]
  },
  {
   "cell_type": "code",
   "execution_count": null,
   "metadata": {},
   "outputs": [],
   "source": [
    "#Questão 3\n",
    "#Plote a autocovariância para cada condição."
   ]
  },
  {
   "cell_type": "code",
   "execution_count": null,
   "metadata": {},
   "outputs": [],
   "source": [
    "#Questão 4\n",
    "#Plote o espectro para cada condição. \n",
    "#Existe a necessidade de passar algum filtro? Provavelmente terá 60 Hz nos canais, caso tenha, passe um filtro e calcule novamente o espectro."
   ]
  },
  {
   "cell_type": "code",
   "execution_count": null,
   "metadata": {},
   "outputs": [],
   "source": [
    "#Questão 5\n",
    "#Existe diferenças espectrais entre as condições?"
   ]
  },
  {
   "cell_type": "code",
   "execution_count": null,
   "metadata": {},
   "outputs": [],
   "source": [
    "#Questão 6\n",
    "#Calcule o espectrograma para todo o sinal, os tempos das mudanças de condições batem com o que foi relatado no ConditionTime?"
   ]
  },
  {
   "cell_type": "code",
   "execution_count": null,
   "metadata": {},
   "outputs": [],
   "source": [
    "#Questão 7\n",
    "#Calcule os espectros usando o método multitaper. Justifique sua escolha do número de tapers em relação à resolução da frequência. Alguma nova frequência ficou aparente?"
   ]
  },
  {
   "cell_type": "code",
   "execution_count": null,
   "metadata": {},
   "outputs": [],
   "source": [
    "#Questão 8\n",
    "#Para cada condição, divida o sinal em trechos de 1s, calcule a coerência entre os eletrodos. Existe mudança entre acoplamento entre os eletrodos?"
   ]
  }
 ],
 "metadata": {
  "kernelspec": {
   "display_name": "Python 3",
   "language": "python",
   "name": "python3"
  },
  "language_info": {
   "codemirror_mode": {
    "name": "ipython",
    "version": 3
   },
   "file_extension": ".py",
   "mimetype": "text/x-python",
   "name": "python",
   "nbconvert_exporter": "python",
   "pygments_lexer": "ipython3",
   "version": "3.6.6"
  }
 },
 "nbformat": 4,
 "nbformat_minor": 2
}
